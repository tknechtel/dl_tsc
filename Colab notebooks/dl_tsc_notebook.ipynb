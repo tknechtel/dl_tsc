{
  "nbformat": 4,
  "nbformat_minor": 0,
  "metadata": {
    "colab": {
      "name": "dl_tsc_notebook",
      "provenance": [],
      "collapsed_sections": []
    },
    "kernelspec": {
      "name": "python3",
      "display_name": "Python 3"
    },
    "language_info": {
      "name": "python"
    }
  },
  "cells": [
    {
      "cell_type": "markdown",
      "metadata": {
        "id": "SH9BWXytoeYX"
      },
      "source": [
        ""
      ]
    },
    {
      "cell_type": "markdown",
      "metadata": {
        "id": "8QAWNjizy_3O"
      },
      "source": [
        "## Open In Colab Badge\n",
        "\n",
        "Anybody can open a copy of any github-hosted notebook within Colab.\n",
        "\n",
        "[![Open In Colab](https://colab.research.google.com/assets/colab-badge.svg)](https://colab.research.google.com/github/tknechtel/dl_tsc/blob/main/Colab%20notebooks/dl_tsc_notebook.ipynb)\n"
      ]
    },
    {
      "cell_type": "markdown",
      "metadata": {
        "id": "8rlIQTH3YDFR"
      },
      "source": [
        "## First of all, upload your the github repository to your Google Drive\n",
        "### Start by connecting gdrive into the google colab"
      ]
    },
    {
      "cell_type": "code",
      "metadata": {
        "colab": {
          "base_uri": "https://localhost:8080/"
        },
        "id": "b7tYUtkMXM1-",
        "outputId": "4df38c16-44c3-4884-931f-9144fdc364ac"
      },
      "source": [
        "from google.colab import drive\n",
        "drive.mount('/content/drive/')"
      ],
      "execution_count": 8,
      "outputs": [
        {
          "output_type": "stream",
          "text": [
            "Mounted at /content/drive/\n"
          ],
          "name": "stdout"
        }
      ]
    },
    {
      "cell_type": "markdown",
      "metadata": {
        "id": "87ZCbb98ihAR"
      },
      "source": [
        "## Install requirements\n",
        "\n",
        "change root_path to your gdrive path"
      ]
    },
    {
      "cell_type": "code",
      "metadata": {
        "id": "X8b11ytfhCzN"
      },
      "source": [
        "%cd \"/content/drive/MyDrive/projektarbeit/source_code_with_UCR_datasets/sourc_code_with_UCR_datasets/\""
      ],
      "execution_count": null,
      "outputs": []
    },
    {
      "cell_type": "markdown",
      "metadata": {
        "id": "GRwto1h3iyYc"
      },
      "source": [
        "clone github repostory and install requirements"
      ]
    },
    {
      "cell_type": "code",
      "metadata": {
        "id": "wJ9k_qvYizRI"
      },
      "source": [
        "!git clone https://github.com/tknechtel/dl_tsc\n",
        "%cd dl_tsc\n",
        "!pip install -r requirements.txt"
      ],
      "execution_count": null,
      "outputs": []
    },
    {
      "cell_type": "markdown",
      "metadata": {
        "id": "POR4v7z6Xb72"
      },
      "source": [
        "## Run code\n",
        "\n",
        "check if gpu support, if gpu is not connected change the runtime typ of colab"
      ]
    },
    {
      "cell_type": "code",
      "metadata": {
        "colab": {
          "base_uri": "https://localhost:8080/"
        },
        "id": "PmtZ0WKGbXqm",
        "outputId": "4aa66b90-4f7e-4979-ff43-a7e65b44de2d"
      },
      "source": [
        "import tensorflow as tf\n",
        "#tf.test.gpu_device_name()\n",
        "if tf.test.gpu_device_name() == \"/device:GPU:0\":\n",
        "  print('gpu active')\n",
        "else: \n",
        "  print('gpu not active, change colab runtime typ')"
      ],
      "execution_count": 17,
      "outputs": [
        {
          "output_type": "stream",
          "text": [
            "gpu not active, change colab runtime typ\n"
          ],
          "name": "stdout"
        }
      ]
    },
    {
      "cell_type": "markdown",
      "metadata": {
        "id": "Vg3wzvrfjfgI"
      },
      "source": [
        "run main.py"
      ]
    },
    {
      "cell_type": "code",
      "metadata": {
        "id": "kCmkcQ9dcreK"
      },
      "source": [
        "!python3 \"main.py\" -i 3"
      ],
      "execution_count": null,
      "outputs": []
    }
  ]
}