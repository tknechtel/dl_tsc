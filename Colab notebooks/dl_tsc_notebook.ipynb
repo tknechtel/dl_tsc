{
  "nbformat": 4,
  "nbformat_minor": 0,
  "metadata": {
    "colab": {
      "name": "dl_tsc_notebook",
      "provenance": [],
      "collapsed_sections": [],
      "machine_shape": "hm",
      "include_colab_link": true
    },
    "kernelspec": {
      "name": "python3",
      "display_name": "Python 3"
    },
    "language_info": {
      "name": "python"
    },
    "accelerator": "GPU"
  },
  "cells": [
    {
      "cell_type": "markdown",
      "metadata": {
        "id": "view-in-github",
        "colab_type": "text"
      },
      "source": [
        "<a href=\"https://colab.research.google.com/github/tknechtel/dl_tsc/blob/main/Colab%20notebooks/dl_tsc_notebook.ipynb\" target=\"_parent\"><img src=\"https://colab.research.google.com/assets/colab-badge.svg\" alt=\"Open In Colab\"/></a>"
      ]
    },
    {
      "cell_type": "markdown",
      "metadata": {
        "id": "8rlIQTH3YDFR"
      },
      "source": [
        "\n",
        "### Start by connecting gdrive into the google colab. This option was during the development."
      ]
    },
    {
      "cell_type": "code",
      "metadata": {
        "colab": {
          "base_uri": "https://localhost:8080/"
        },
        "id": "b7tYUtkMXM1-",
        "outputId": "4df38c16-44c3-4884-931f-9144fdc364ac"
      },
      "source": [
        "from google.colab import drive\n",
        "drive.mount('/content/drive/')"
      ],
      "execution_count": null,
      "outputs": [
        {
          "output_type": "stream",
          "text": [
            "Mounted at /content/drive/\n"
          ],
          "name": "stdout"
        }
      ]
    },
    {
      "cell_type": "markdown",
      "metadata": {
        "id": "87ZCbb98ihAR"
      },
      "source": [
        "## Install requirements\n",
        "\n",
        "dev settings"
      ]
    },
    {
      "cell_type": "code",
      "metadata": {
        "id": "X8b11ytfhCzN"
      },
      "source": [
        "#Development, change directory to gdrive path of the project\n",
        "#%cd \"/content/drive/MyDrive/projektarbeit/source_code_with_UCR_datasets/sourc_code_with_UCR_datasets/\""
      ],
      "execution_count": null,
      "outputs": []
    },
    {
      "cell_type": "markdown",
      "metadata": {
        "id": "GRwto1h3iyYc"
      },
      "source": [
        "clone github repostory and install requirements"
      ]
    },
    {
      "cell_type": "code",
      "metadata": {
        "id": "wJ9k_qvYizRI"
      },
      "source": [
        "#clone git dl_tsc\n",
        "!git clone https://github.com/tknechtel/dl_tsc\n",
        "#change dir\n",
        "%cd dl_tsc\n",
        "#install requirements\n",
        "!pip install -r requirements.txt"
      ],
      "execution_count": null,
      "outputs": []
    },
    {
      "cell_type": "markdown",
      "metadata": {
        "id": "POR4v7z6Xb72"
      },
      "source": [
        "## Run code\n",
        "\n",
        "check if gpu support, if gpu is not connected change the runtime typ of colab"
      ]
    },
    {
      "cell_type": "code",
      "metadata": {
        "id": "PmtZ0WKGbXqm"
      },
      "source": [
        "import tensorflow as tf"
      ],
      "execution_count": 2,
      "outputs": []
    },
    {
      "cell_type": "code",
      "metadata": {
        "colab": {
          "base_uri": "https://localhost:8080/"
        },
        "id": "3pA5qWzDTwYA",
        "outputId": "e6952d09-4d5d-4f21-8e12-7b99ae203562"
      },
      "source": [
        "gpu_info = !nvidia-smi\n",
        "gpu_info = '\\n'.join(gpu_info)\n",
        "if gpu_info.find('failed') >= 0:\n",
        "  print('Select the Runtime > \"Change runtime type\" menu to enable a GPU accelerator, ')\n",
        "  print('and then re-execute this cell.')\n",
        "else:\n",
        "  print(gpu_info)"
      ],
      "execution_count": 3,
      "outputs": [
        {
          "output_type": "stream",
          "text": [
            "Tue Aug  3 07:58:11 2021       \n",
            "+-----------------------------------------------------------------------------+\n",
            "| NVIDIA-SMI 470.42.01    Driver Version: 460.32.03    CUDA Version: 11.2     |\n",
            "|-------------------------------+----------------------+----------------------+\n",
            "| GPU  Name        Persistence-M| Bus-Id        Disp.A | Volatile Uncorr. ECC |\n",
            "| Fan  Temp  Perf  Pwr:Usage/Cap|         Memory-Usage | GPU-Util  Compute M. |\n",
            "|                               |                      |               MIG M. |\n",
            "|===============================+======================+======================|\n",
            "|   0  Tesla P100-PCIE...  Off  | 00000000:00:04.0 Off |                    0 |\n",
            "| N/A   44C    P0    28W / 250W |      0MiB / 16280MiB |      0%      Default |\n",
            "|                               |                      |                  N/A |\n",
            "+-------------------------------+----------------------+----------------------+\n",
            "                                                                               \n",
            "+-----------------------------------------------------------------------------+\n",
            "| Processes:                                                                  |\n",
            "|  GPU   GI   CI        PID   Type   Process name                  GPU Memory |\n",
            "|        ID   ID                                                   Usage      |\n",
            "|=============================================================================|\n",
            "|  No running processes found                                                 |\n",
            "+-----------------------------------------------------------------------------+\n"
          ],
          "name": "stdout"
        }
      ]
    },
    {
      "cell_type": "markdown",
      "metadata": {
        "id": "Vg3wzvrfjfgI"
      },
      "source": [
        "run main.py"
      ]
    },
    {
      "cell_type": "code",
      "metadata": {
        "id": "kCmkcQ9dcreK",
        "colab": {
          "base_uri": "https://localhost:8080/"
        },
        "outputId": "b0ed543b-fece-4dfa-df4f-0d6be54098d0"
      },
      "source": [
        "!python3 \"main.py\" -d Adiac -c multirocket_default -i 1"
      ],
      "execution_count": 5,
      "outputs": [
        {
          "output_type": "stream",
          "text": [
            "/content/dl_tsc\n",
            "classifier_name multirocket_default\n",
            "\t\titer 0\n",
            "classifier_name multirocket_default\n",
            "\t\t\tdataset_name:  Adiac\n",
            "(390, 176, 1)\n",
            "/usr/local/lib/python3.7/dist-packages/numba/np/ufunc/parallel.py:355: NumbaWarning: The TBB threading layer requires TBB version 2019.5 or later i.e., TBB_INTERFACE_VERSION >= 11005. Found TBB_INTERFACE_VERSION = 9107. The TBB threading layer is disabled.\n",
            "  warnings.warn(problem)\n",
            "FeatureID: 202 -- features for each kernel: ['PPV', 'CO_HistogramAMI_even_2_5', 'SB_BinaryStats_mean_longstretch1', 'SB_MotifThree_quantile_hh', 'LongStretch_above_0', 'Max']\n",
            "Creating MiniRocket_202_10000 with 5000 kernels\n",
            "176\n",
            "(390, 176, 1)\n",
            "1\n",
            "x_train\n",
            "[MiniRocket_202_10000] Training with training set of (390, 176, 1)\n",
            "Kernels applied!, took 4.155043596000041s\n",
            "Transformed Shape (390, 9912)\n",
            "Training\n",
            "Training done!, took 0.178s\n",
            "[MiniRocket_202_10000] Predicting\n",
            "Kernels applied!, took 2.372s. Transformed shape: (391, 9912). \n",
            "[MiniRocket_202_10000] Predicting completed, took 2.408s\n",
            "[MiniRocket_202_10000] Predicting\n",
            "Kernels applied!, took 2.336s. Transformed shape: (391, 9912). \n",
            "[MiniRocket_202_10000] Predicting completed, took 2.371s\n",
            "   precision  ...  duration\n",
            "0   0.833557  ...  6.056388\n",
            "\n",
            "[1 rows x 4 columns]\n",
            "       x_transform  ...     total\n",
            "train     4.155045  ...  8.488644\n",
            "test      2.407668  ...  4.797609\n",
            "\n",
            "[2 rows x 3 columns]\n",
            "\t\t\t\tDONE\n"
          ],
          "name": "stdout"
        }
      ]
    }
  ]
}